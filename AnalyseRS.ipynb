{
 "cells": [
  {
   "cell_type": "markdown",
   "id": "efc1a378",
   "metadata": {},
   "source": [
    "*** TP : Gestion et Analyse des Résultats Scolaires des Étudiants avec Pandas et Excel: ***\n",
    "\n",
    "Objectif\n",
    " • Manipuler des données issues d’un fichier Excel, effectuer des analyses statistiques et générer des visualisations \n",
    "à l’aide de Pandas et Matplotlib.\n",
    " Contexte du TP\n",
    " • L’université souhaite automatiser l’analyse des résultats scolaires des étudiants. On doit traiter un fichier Excel \n",
    "contenant les notes des étudiants et fournir des statistiques détaillées sur leurs performances.\n",
    " • Données disponibles dans resultats.xlsx (Feuille Notes) :\n",
    " Problèmes à gérer :\n",
    " • Les Valeurs manquantes (N/A, \"?\", \"Not Available\") pour les notes.\n",
    " • Les âges incorrects ou manquants.\n",
    " • L’analyse des performances des étudiants par matière et par statut.\n",
    " • La visualisation graphique des résultats"
   ]
  },
  {
   "cell_type": "code",
   "execution_count": 12,
   "id": "e8b89fe0",
   "metadata": {},
   "outputs": [
    {
     "name": "stdout",
     "output_type": "stream",
     "text": [
      "Moyenne des notes par matière :\n",
      "Matière\n",
      "Informatique      0.000\n",
      "Mathématiques     7.375\n",
      "Physique         13.875\n",
      "Name: Note, dtype: float64\n",
      "\n",
      "Étudiant avec la meilleure note :\n",
      "      Nom Prénom  Note\n",
      "2  Durand  Clara  17.0\n",
      "\n",
      "Nombre d'étudiants absents : 2\n",
      "\n",
      "Répartition des notes :\n",
      "count    12.000000\n",
      "mean      7.083333\n",
      "std       7.612291\n",
      "min       0.000000\n",
      "25%       0.000000\n",
      "50%       4.750000\n",
      "75%      14.625000\n",
      "max      17.000000\n",
      "Name: Note, dtype: float64\n"
     ]
    },
    {
     "data": {
      "image/png": "[encoded data removed]",
      "text/plain": [
       "<Figure size 800x500 with 1 Axes>"
      ]
     },
     "metadata": {},
     "output_type": "display_data"
    }
   ],
   "source": [
    "\n",
    "import pandas as pd\n",
    "import subprocess\n",
    "import sys\n",
    "\n",
    "import matplotlib.pyplot as plt\n",
    "\n",
    "# ***Partie 1 : Chargement et affichage des données ***\n",
    "\n",
    "# Charger le fichier Excel\n",
    "df = pd.read_excel(\"file.xlsx\", sheet_name=\"Notes\")\n",
    "\n",
    "# Afficher les 5 premières lignes\n",
    "# print(df.head())\n",
    "\n",
    "# Sélectionner uniquement les colonnes utiles\n",
    "colonnes_utiles = [\"ID_Étudiant\", \"Nom\", \"Prénom\", \"Âge\", \"Matière\", \"Note\", \"Statut\"]\n",
    "df = df[colonnes_utiles]\n",
    "\n",
    "# Vérification\n",
    "# print(df.head())\n",
    "\n",
    "# ***Partie 2:  Nettoyage des données ***\n",
    "\n",
    "# Ce code fait deux choses :\n",
    "# Il convertit toutes les notes en valeurs numériques et transforme les valeurs invalides (comme \"?\" ou \"Not Available\") en NaN.\n",
    "\n",
    "# Il remplace ensuite les NaN par 0.0, ce qui correspond aux étudiants absents.\n",
    "# 🧩 Étape 1 : Remplacer les valeurs manquantes ou invalides dans la colonne Note\n",
    "\n",
    "# S'assurer que les valeurs de \"Note\" sont bien numériques (si ce n'est pas déjà fait)\n",
    "df[\"Note\"] = pd.to_numeric(df[\"Note\"], errors=\"coerce\")\n",
    "# Remplacer les NaN dans la colonne \"Note\" par 0.0\n",
    "df[\"Note\"] = df[\"Note\"].fillna(0.0)\n",
    "# print(df)\n",
    "\n",
    "# 🧩 Étape 2 : Nettoyer la colonne Âge\n",
    "# Remplacer les valeurs non numériques par NaN\n",
    "df[\"Âge\"] = pd.to_numeric(df[\"Âge\"], errors=\"coerce\")\n",
    "# Remplacer les NaN par la médiane des âges valides\n",
    "mediane_age = df[\"Âge\"].median()\n",
    "df[\"Âge\"] = df[\"Âge\"].fillna(mediane_age)\n",
    "\n",
    "# 🧩 Étape 3 : S’assurer que la colonne Note est bien en float\n",
    "df[\"Note\"] = df[\"Note\"].astype(float)\n",
    "\n",
    "#  • Partie 3 : Analyse statistique des notes\n",
    "\n",
    "# 1. Moyenne des notes par matière\n",
    "moyennes_par_matiere = df.groupby('Matière')['Note'].mean()\n",
    "print(\"Moyenne des notes par matière :\")\n",
    "print(moyennes_par_matiere)\n",
    "\n",
    "# 2. Étudiant avec la meilleure note\n",
    "meilleure_note = df['Note'].max()\n",
    "etudiant_meilleur = df[df['Note'] == meilleure_note][['Nom', 'Prénom', 'Note']]\n",
    "print(\"\\nÉtudiant avec la meilleure note :\")\n",
    "print(etudiant_meilleur)\n",
    "\n",
    "# 3. Nombre d'étudiants absents\n",
    "nb_absents = (df['Statut'] == 'Absent').sum()\n",
    "print(f\"\\nNombre d'étudiants absents : {nb_absents}\")\n",
    "\n",
    "# 4. Analyse de la répartition des notes\n",
    "print(\"\\nRépartition des notes :\")\n",
    "print(df['Note'].describe())\n",
    "\n",
    "\n",
    "\n",
    "  # Histogramme des notes\n",
    "plt.figure(figsize=(8, 5))\n",
    "plt.hist(df['Note'].dropna(), bins=10, color='red', edgecolor='black')\n",
    "plt.title(\"Répartition des notes des étudiants\")\n",
    "plt.xlabel(\"Note\")\n",
    "plt.ylabel(\"Nombre d'étudiants\")\n",
    "plt.grid(axis='y', linestyle='--', alpha=0.7)\n",
    "plt.tight_layout()\n",
    "plt.show()\n",
    "\n",
    "\n"
   ]
  },
  {
   "cell_type": "code",
   "execution_count": null,
   "id": "2805d337",
   "metadata": {},
   "outputs": [
    {
     "ename": "NameError",
     "evalue": "name 'df' is not defined",
     "output_type": "error",
     "traceback": [
      "\u001b[31m---------------------------------------------------------------------------\u001b[39m",
      "\u001b[31mNameError\u001b[39m                                 Traceback (most recent call last)",
      "\u001b[36mCell\u001b[39m\u001b[36m \u001b[39m\u001b[32mIn[10]\u001b[39m\u001b[32m, line 7\u001b[39m\n\u001b[32m      5\u001b[39m   \u001b[38;5;66;03m# Histogramme des notes\u001b[39;00m\n\u001b[32m      6\u001b[39m plt.figure(figsize=(\u001b[32m8\u001b[39m, \u001b[32m5\u001b[39m))\n\u001b[32m----> \u001b[39m\u001b[32m7\u001b[39m plt.hist(\u001b[43mdf\u001b[49m[\u001b[33m'\u001b[39m\u001b[33mNote\u001b[39m\u001b[33m'\u001b[39m].dropna(), bins=\u001b[32m10\u001b[39m, color=\u001b[33m'\u001b[39m\u001b[33mskyblue\u001b[39m\u001b[33m'\u001b[39m, edgecolor=\u001b[33m'\u001b[39m\u001b[33mblack\u001b[39m\u001b[33m'\u001b[39m)\n\u001b[32m      8\u001b[39m plt.title(\u001b[33m\"\u001b[39m\u001b[33mRépartition des notes des étudiants\u001b[39m\u001b[33m\"\u001b[39m)\n\u001b[32m      9\u001b[39m plt.xlabel(\u001b[33m\"\u001b[39m\u001b[33mNote\u001b[39m\u001b[33m\"\u001b[39m)\n",
      "\u001b[31mNameError\u001b[39m: name 'df' is not defined"
     ]
    },
    {
     "data": {
      "text/plain": [
       "<Figure size 800x500 with 0 Axes>"
      ]
     },
     "metadata": {},
     "output_type": "display_data"
    }
   ],
   "source": [
    "\n"
   ]
  }
 ],
 "metadata": {
  "kernelspec": {
   "display_name": "venv_demo",
   "language": "python",
   "name": "python3"
  },
  "language_info": {
   "codemirror_mode": {
    "name": "ipython",
    "version": 3
   },
   "file_extension": ".py",
   "mimetype": "text/x-python",
   "name": "python",
   "nbconvert_exporter": "python",
   "pygments_lexer": "ipython3",
   "version": "3.13.1"
  }
 },
 "nbformat": 4,
 "nbformat_minor": 5
}
