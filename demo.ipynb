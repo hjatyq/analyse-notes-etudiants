{
 "cells": [
  {
   "cell_type": "markdown",
   "metadata": {},
   "source": [
    "*** 🌟 Qu’est-ce que NumPy ?  ***\n",
    "\n",
    "    NumPy (Numerical Python) est une bibliothèque qui permet de manipuler facilement des tableaux (arrays) et de faire des calculs mathématiques rapides sur de grandes quantités de données.\n",
    "    \n",
    "*** 🔧 À quoi sert NumPy ?  ***\n",
    "Créer et manipuler des tableaux multidimensionnels (comme des matrices).\n",
    "\n",
    "Faire des opérations mathématiques rapides (addition, multiplication, sinus, etc.).\n",
    "\n",
    "Travailler efficacement avec des grandes données numériques.\n",
    "\n",
    "Fournir des outils pour l’algèbre linéaire, les statistiques, les transformations de Fourier, etc."
   ]
  },
  {
   "cell_type": "code",
   "execution_count": 1,
   "metadata": {},
   "outputs": [
    {
     "name": "stdout",
     "output_type": "stream",
     "text": [
      "[1 2 3]\n",
      "[[1 2]\n",
      " [3 4]]\n"
     ]
    }
   ],
   "source": [
    "import numpy as np \n",
    "# Créer un tableau (array)\n",
    "a = np.array([1, 2, 3])\n",
    "print(a)  # [1 2 3]\n",
    "\n",
    "\n",
    "# Créer une matrice 2D\n",
    "b = np.array([[1, 2], [3, 4]])\n",
    "print(b)\n",
    "# [[1 2]\n",
    "#  [3 4]]\n",
    "\n",
    "\n"
   ]
  },
  {
   "cell_type": "markdown",
   "metadata": {},
   "source": [
    "*** 🐼 Qu’est-ce que Pandas ? ***\n",
    "Pandas est une bibliothèque Python conçue pour manipuler, nettoyer, analyser et explorer des données, en particulier les données structurées (comme dans des tableaux Excel, des bases de données, des fichiers CSV...).\n",
    "\n",
    "Elle repose sur NumPy pour les calculs en arrière-plan, mais elle fournit des structures de données très puissantes et flexibles.\n",
    "\n",
    "🧱 *** Structures principales de Pandas ***\n",
    "Series : une colonne de données (comme une liste avec un index)\n",
    "\n",
    "DataFrame : un tableau 2D (comme une feuille Excel avec des colonnes et des lignes)\n",
    "\n"
   ]
  },
  {
   "cell_type": "code",
   "execution_count": 2,
   "metadata": {},
   "outputs": [
    {
     "data": {
      "text/html": [
       "<div>\n",
       "<style scoped>\n",
       "    .dataframe tbody tr th:only-of-type {\n",
       "        vertical-align: middle;\n",
       "    }\n",
       "\n",
       "    .dataframe tbody tr th {\n",
       "        vertical-align: top;\n",
       "    }\n",
       "\n",
       "    .dataframe thead th {\n",
       "        text-align: right;\n",
       "    }\n",
       "</style>\n",
       "<table border=\"1\" class=\"dataframe\">\n",
       "  <thead>\n",
       "    <tr style=\"text-align: right;\">\n",
       "      <th></th>\n",
       "      <th>Num</th>\n",
       "      <th>Nom</th>\n",
       "      <th>Age</th>\n",
       "    </tr>\n",
       "  </thead>\n",
       "  <tbody>\n",
       "    <tr>\n",
       "      <th>0</th>\n",
       "      <td>1</td>\n",
       "      <td>AAAA</td>\n",
       "      <td>25</td>\n",
       "    </tr>\n",
       "    <tr>\n",
       "      <th>1</th>\n",
       "      <td>2</td>\n",
       "      <td>BBBB</td>\n",
       "      <td>12</td>\n",
       "    </tr>\n",
       "    <tr>\n",
       "      <th>2</th>\n",
       "      <td>3</td>\n",
       "      <td>CCCC</td>\n",
       "      <td>40</td>\n",
       "    </tr>\n",
       "    <tr>\n",
       "      <th>3</th>\n",
       "      <td>4</td>\n",
       "      <td>DDDD</td>\n",
       "      <td>55</td>\n",
       "    </tr>\n",
       "    <tr>\n",
       "      <th>4</th>\n",
       "      <td>5</td>\n",
       "      <td>EEEE</td>\n",
       "      <td>11</td>\n",
       "    </tr>\n",
       "  </tbody>\n",
       "</table>\n",
       "</div>"
      ],
      "text/plain": [
       "   Num   Nom  Age\n",
       "0    1  AAAA   25\n",
       "1    2  BBBB   12\n",
       "2    3  CCCC   40\n",
       "3    4  DDDD   55\n",
       "4    5  EEEE   11"
      ]
     },
     "execution_count": 2,
     "metadata": {},
     "output_type": "execute_result"
    }
   ],
   "source": [
    "import pandas as pd \n",
    "\n",
    "data={\n",
    "    \n",
    "    \"Num\":[1,2,3,4,5],\n",
    "    \"Nom\":['AAAA','BBBB','CCCC','DDDD','EEEE'],\n",
    "    \"Age\":[25,12,40,55,11],    \n",
    "    }\n",
    "dataF1=pd.DataFrame(data)\n",
    "dataF1\n",
    "\n"
   ]
  },
  {
   "cell_type": "code",
   "execution_count": 17,
   "metadata": {},
   "outputs": [
    {
     "name": "stdout",
     "output_type": "stream",
     "text": [
      "DataFrame avec séparateur ';':\n",
      "       Nom  Age      Ville  Salaire\n",
      "0    Alice   25      Paris     3000\n",
      "1      Bob   30       Lyon     2500\n",
      "2  Charlie   28  Marseille     2700\n",
      "3    David   40   Bordeaux     4000 \n",
      "\n",
      "DataFrame avec 1ère ligne ignorée:\n",
      "         Alice;25;Paris;3000\n",
      "0           Bob;30;Lyon;2500\n",
      "1  Charlie;28;Marseille;2700\n",
      "2     David;40;Bordeaux;4000 \n",
      "\n",
      "DataFrame avec 3 premières lignes:\n",
      "       Nom;Age;Ville;Salaire\n",
      "0        Alice;25;Paris;3000\n",
      "1           Bob;30;Lyon;2500\n",
      "2  Charlie;28;Marseille;2700 \n",
      "\n"
     ]
    }
   ],
   "source": [
    "import pandas as pd\n",
    "# Lecture du fichier CSV avec différentes options\n",
    "\n",
    "# 1. Charger un CSV avec un séparateur personnalisé (ici ';')\n",
    "df = pd.read_csv(\"data.csv\", sep=\";\")\n",
    "print(\"DataFrame avec séparateur ';':\")\n",
    "print(df.head(), \"\\n\")\n",
    "\n",
    "# # 2. Charger un CSV sans en-tête et ajouter des noms de colonnes manuellement\n",
    "# df_no_header = pd.read_csv(\"data.csv\", header=None, names=[\"Name\", \"age\",\"city\", \"Salary\" ])\n",
    "# print(\"DataFrame sans en-tête, avec noms de colonnes personnalisés:\")\n",
    "# print(df_no_header.head(), \"\\n\")\n",
    "\n",
    "# # 3. Charger un CSV en ne lisant que certaines colonnes (par exemple \"Nom\", \"Âge\", \"Salaire\")\n",
    "# df_columns = pd.read_csv(\"data.csv\", usecols=[\"Nom\", \"Age\", \"ville\"])\n",
    "# print(\"DataFrame avec certaines colonnes seulement:\")\n",
    "# print(df_columns.head(), \"\\n\")\n",
    "\n",
    "# 4. Charger un CSV en ignorant la première ligne (par exemple, une ligne de métadonnées)\n",
    "df_skiprows = pd.read_csv(\"data.csv\", skiprows=1)\n",
    "print(\"DataFrame avec 1ère ligne ignorée:\")\n",
    "print(df_skiprows.head(), \"\\n\")\n",
    "\n",
    "# 5. Lire seulement un échantillon (par exemple, les 3 premières lignes)\n",
    "df_sample = pd.read_csv(\"data.csv\", nrows=3)\n",
    "print(\"DataFrame avec 3 premières lignes:\")\n",
    "print(df_sample.head(), \"\\n\")"
   ]
  }
 ],
 "metadata": {
  "kernelspec": {
   "display_name": "venv_demo",
   "language": "python",
   "name": "python3"
  },
  "language_info": {
   "codemirror_mode": {
    "name": "ipython",
    "version": 3
   },
   "file_extension": ".py",
   "mimetype": "text/x-python",
   "name": "python",
   "nbconvert_exporter": "python",
   "pygments_lexer": "ipython3",
   "version": "3.13.1"
  }
 },
 "nbformat": 4,
 "nbformat_minor": 2
}
